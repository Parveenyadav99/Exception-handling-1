{
 "cells": [
  {
   "cell_type": "code",
   "execution_count": 1,
   "id": "2df771c5",
   "metadata": {},
   "outputs": [
    {
     "data": {
      "text/plain": [
       "'An Exception in python is an error that occurs during the execution of a program. It is a way for the program to indicate that something went wrong and stop the execution of the program. This error can be caused by a variety of things such as dividing by zero, trying to access a list element that does not exist, or attempting to open a file that does not exist.\\n\\nThe difference between exceptions and syntax errors is that syntax errors occur during the parsing of the code and are typically due to incorrect syntax or incorrect use of keywords. They are caused by the programmer and can be easily fixed. On the other hand, exceptions are runtime errors that occur when the program is executing and can be caused by many different factors such as user input, system failures, or unexpected results from an external library. Exceptions can be handled by the programmer using try-except blocks, but they cannot be fixed without modifying the code that is causing the exception.'"
      ]
     },
     "execution_count": 1,
     "metadata": {},
     "output_type": "execute_result"
    }
   ],
   "source": [
    "# Q1. Q1. What is an Exception in python? Write the difference between Exceptions and syntax errors.\n",
    "'''An Exception in python is an error that occurs during the execution of a program. It is a way for the program to indicate that something went wrong and stop the execution of the program. This error can be caused by a variety of things such as dividing by zero, trying to access a list element that does not exist, or attempting to open a file that does not exist.\n",
    "\n",
    "The difference between exceptions and syntax errors is that syntax errors occur during the parsing of the code and are typically due to incorrect syntax or incorrect use of keywords. They are caused by the programmer and can be easily fixed. On the other hand, exceptions are runtime errors that occur when the program is executing and can be caused by many different factors such as user input, system failures, or unexpected results from an external library. Exceptions can be handled by the programmer using try-except blocks, but they cannot be fixed without modifying the code that is causing the exception.'''\n"
   ]
  },
  {
   "cell_type": "code",
   "execution_count": 2,
   "id": "4491f605",
   "metadata": {},
   "outputs": [
    {
     "data": {
      "text/plain": [
       "\"When an exception is not handled, the program will immediately stop executing and raise the exception, producing an error message. This is known as an unhandled exception. The error message will typically contain information about the type of exception that was raised, and a traceback of the program's execution, showing where the exception occurred.\\n\\nFor example, consider the following code:\""
      ]
     },
     "execution_count": 2,
     "metadata": {},
     "output_type": "execute_result"
    }
   ],
   "source": [
    "# Q2. What happens when an exception is not handled? explain with an example\n",
    "'''When an exception is not handled, the program will immediately stop executing and raise the exception, producing an error message. This is known as an unhandled exception. The error message will typically contain information about the type of exception that was raised, and a traceback of the program's execution, showing where the exception occurred.\n",
    "\n",
    "For example, consider the following code:'''"
   ]
  },
  {
   "cell_type": "code",
   "execution_count": 7,
   "id": "d613a26f",
   "metadata": {},
   "outputs": [
    {
     "ename": "ZeroDivisionError",
     "evalue": "division by zero",
     "output_type": "error",
     "traceback": [
      "\u001b[1;31m---------------------------------------------------------------------------\u001b[0m",
      "\u001b[1;31mZeroDivisionError\u001b[0m                         Traceback (most recent call last)",
      "\u001b[1;32m~\\AppData\\Local\\Temp/ipykernel_18452/110323661.py\u001b[0m in \u001b[0;36m<module>\u001b[1;34m\u001b[0m\n\u001b[0;32m      4\u001b[0m \u001b[0ma\u001b[0m \u001b[1;33m=\u001b[0m \u001b[1;36m10\u001b[0m\u001b[1;33m\u001b[0m\u001b[1;33m\u001b[0m\u001b[0m\n\u001b[0;32m      5\u001b[0m \u001b[0mb\u001b[0m \u001b[1;33m=\u001b[0m \u001b[1;36m0\u001b[0m\u001b[1;33m\u001b[0m\u001b[1;33m\u001b[0m\u001b[0m\n\u001b[1;32m----> 6\u001b[1;33m \u001b[0mresult\u001b[0m \u001b[1;33m=\u001b[0m \u001b[0mdivide\u001b[0m\u001b[1;33m(\u001b[0m\u001b[0ma\u001b[0m\u001b[1;33m,\u001b[0m \u001b[0mb\u001b[0m\u001b[1;33m)\u001b[0m\u001b[1;33m\u001b[0m\u001b[1;33m\u001b[0m\u001b[0m\n\u001b[0m\u001b[0;32m      7\u001b[0m \u001b[0mprint\u001b[0m\u001b[1;33m(\u001b[0m\u001b[0mresult\u001b[0m\u001b[1;33m)\u001b[0m\u001b[1;33m\u001b[0m\u001b[1;33m\u001b[0m\u001b[0m\n\u001b[0;32m      8\u001b[0m \u001b[1;33m\u001b[0m\u001b[0m\n",
      "\u001b[1;32m~\\AppData\\Local\\Temp/ipykernel_18452/110323661.py\u001b[0m in \u001b[0;36mdivide\u001b[1;34m(a, b)\u001b[0m\n\u001b[0;32m      1\u001b[0m \u001b[1;32mdef\u001b[0m \u001b[0mdivide\u001b[0m\u001b[1;33m(\u001b[0m\u001b[0ma\u001b[0m\u001b[1;33m,\u001b[0m \u001b[0mb\u001b[0m\u001b[1;33m)\u001b[0m\u001b[1;33m:\u001b[0m\u001b[1;33m\u001b[0m\u001b[1;33m\u001b[0m\u001b[0m\n\u001b[1;32m----> 2\u001b[1;33m     \u001b[1;32mreturn\u001b[0m \u001b[0ma\u001b[0m\u001b[1;33m/\u001b[0m\u001b[0mb\u001b[0m\u001b[1;33m\u001b[0m\u001b[1;33m\u001b[0m\u001b[0m\n\u001b[0m\u001b[0;32m      3\u001b[0m \u001b[1;33m\u001b[0m\u001b[0m\n\u001b[0;32m      4\u001b[0m \u001b[0ma\u001b[0m \u001b[1;33m=\u001b[0m \u001b[1;36m10\u001b[0m\u001b[1;33m\u001b[0m\u001b[1;33m\u001b[0m\u001b[0m\n\u001b[0;32m      5\u001b[0m \u001b[0mb\u001b[0m \u001b[1;33m=\u001b[0m \u001b[1;36m0\u001b[0m\u001b[1;33m\u001b[0m\u001b[1;33m\u001b[0m\u001b[0m\n",
      "\u001b[1;31mZeroDivisionError\u001b[0m: division by zero"
     ]
    }
   ],
   "source": [
    "def divide(a, b):\n",
    "    return a/b\n",
    "\n",
    "a = 10\n",
    "b = 0\n",
    "result = divide(a, b)\n",
    "print(result)\n",
    "\n"
   ]
  },
  {
   "cell_type": "code",
   "execution_count": 9,
   "id": "de310318",
   "metadata": {},
   "outputs": [
    {
     "data": {
      "text/plain": [
       "'In Python, exceptions can be caught and handled using the try and except statements.\\n\\nThe try block contains the code that might raise an exception, and the except block contains the code that will be executed if an exception is raised. You can have multiple except blocks to handle different types of exceptions differently.\\n\\nHere is an example that shows how to catch and handle a ZeroDivisionError exception, which is raised when dividing a number by zero:'"
      ]
     },
     "execution_count": 9,
     "metadata": {},
     "output_type": "execute_result"
    }
   ],
   "source": [
    "# Q3. Which Python statements are used to catch and handle exceptions? explian with  an example.\n",
    "'''In Python, exceptions can be caught and handled using the try and except statements.\n",
    "\n",
    "The try block contains the code that might raise an exception, and the except block contains the code that will be executed if an exception is raised. You can have multiple except blocks to handle different types of exceptions differently.\n",
    "\n",
    "Here is an example that shows how to catch and handle a ZeroDivisionError exception, which is raised when dividing a number by zero:'''"
   ]
  },
  {
   "cell_type": "code",
   "execution_count": 10,
   "id": "86f53202",
   "metadata": {},
   "outputs": [
    {
     "name": "stdout",
     "output_type": "stream",
     "text": [
      "Cannot divide by zero\n"
     ]
    }
   ],
   "source": [
    "try:\n",
    "    a = 5\n",
    "    b = 0\n",
    "    c = a / b\n",
    "except ZeroDivisionError:\n",
    "    print(\"Cannot divide by zero\")\n"
   ]
  },
  {
   "cell_type": "code",
   "execution_count": 11,
   "id": "22c8449e",
   "metadata": {},
   "outputs": [
    {
     "data": {
      "text/plain": [
       "'In this example, if the division a / b raises a ZeroDivisionError exception, the code in the except block will be executed, and the message \"Cannot divide by zero\" will be printed.\\n\\nYou can also catch multiple exceptions in a single try-except block by listing them after the keyword except.'"
      ]
     },
     "execution_count": 11,
     "metadata": {},
     "output_type": "execute_result"
    }
   ],
   "source": [
    "'''In this example, if the division a / b raises a ZeroDivisionError exception, the code in the except block will be executed, and the message \"Cannot divide by zero\" will be printed.\n",
    "\n",
    "You can also catch multiple exceptions in a single try-except block by listing them after the keyword except.'''"
   ]
  },
  {
   "cell_type": "code",
   "execution_count": 12,
   "id": "1f867f5b",
   "metadata": {},
   "outputs": [
    {
     "name": "stdout",
     "output_type": "stream",
     "text": [
      "Cannot divide by zero or input is not a number\n"
     ]
    }
   ],
   "source": [
    "try:\n",
    "    a = 5\n",
    "    b = \"0\"\n",
    "    c = a / int(b)\n",
    "except (ZeroDivisionError, ValueError):\n",
    "    print(\"Cannot divide by zero or input is not a number\")\n"
   ]
  },
  {
   "cell_type": "code",
   "execution_count": 13,
   "id": "23f2d6fa",
   "metadata": {},
   "outputs": [
    {
     "data": {
      "text/plain": [
       "'In Python, the try, else, and finally statements can be used together to handle exceptions in a more controlled manner.\\n\\nHere is an example that demonstrates the use of these statements:'"
      ]
     },
     "execution_count": 13,
     "metadata": {},
     "output_type": "execute_result"
    }
   ],
   "source": [
    "# Q4. Explain with an example:\n",
    "#  try and else \n",
    "#  finally\n",
    "#  raise\n",
    "'''In Python, the try, else, and finally statements can be used together to handle exceptions in a more controlled manner.\n",
    "\n",
    "Here is an example that demonstrates the use of these statements:'''"
   ]
  },
  {
   "cell_type": "code",
   "execution_count": 14,
   "id": "34358ad3",
   "metadata": {},
   "outputs": [
    {
     "name": "stdout",
     "output_type": "stream",
     "text": [
      "Result: 2.5\n",
      "Executing finally block\n",
      "Cannot divide by zero\n",
      "Executing finally block\n"
     ]
    }
   ],
   "source": [
    "def divide(a, b):\n",
    "    try:\n",
    "        result = a / b\n",
    "    except ZeroDivisionError:\n",
    "        print(\"Cannot divide by zero\")\n",
    "    else:\n",
    "        print(f\"Result: {result}\")\n",
    "    finally:\n",
    "        print(\"Executing finally block\")\n",
    "\n",
    "divide(5, 2)\n",
    "divide(5, 0)\n"
   ]
  },
  {
   "cell_type": "code",
   "execution_count": 15,
   "id": "3e86b827",
   "metadata": {},
   "outputs": [
    {
     "data": {
      "text/plain": [
       "'In this example, the try block contains the code that might raise an exception (the division of a and b). The except block contains the code that will be executed if a ZeroDivisionError is raised. The else block contains the code that will be executed if no exception is raised. Finally, the finally block contains the code that will always be executed, regardless of whether an exception is raised or not.\\n\\nIf you run this code, you will get the following output:'"
      ]
     },
     "execution_count": 15,
     "metadata": {},
     "output_type": "execute_result"
    }
   ],
   "source": [
    "'''In this example, the try block contains the code that might raise an exception (the division of a and b). The except block contains the code that will be executed if a ZeroDivisionError is raised. The else block contains the code that will be executed if no exception is raised. Finally, the finally block contains the code that will always be executed, regardless of whether an exception is raised or not.\n",
    "\n",
    "If you run this code, you will get the following output:'''"
   ]
  },
  {
   "cell_type": "code",
   "execution_count": 17,
   "id": "a9eb2fc8",
   "metadata": {},
   "outputs": [
    {
     "name": "stdout",
     "output_type": "stream",
     "text": [
      "Raising a ValueError\n"
     ]
    }
   ],
   "source": [
    "def raise_exception():\n",
    "    raise ValueError(\"Raising a ValueError\")\n",
    "\n",
    "try:\n",
    "    raise_exception()\n",
    "except ValueError as ve:\n",
    "    print(ve)\n"
   ]
  },
  {
   "cell_type": "code",
   "execution_count": 18,
   "id": "099100c2",
   "metadata": {},
   "outputs": [
    {
     "data": {
      "text/plain": [
       "'Custom exceptions are user-defined exceptions in Python. They are created by subclassing the built-in Exception class or any of its subclasses.\\n\\nThe main reason for creating custom exceptions is to handle specific error conditions that are not covered by the built-in exceptions in a more meaningful and easily recognizable way. This allows the code to provide a clearer and more informative error message, and to handle the error in a more appropriate way.\\n\\nFor example, consider a case where you are writing a program that performs some operations on an image. You might want to raise a custom exception if the image is not of the correct format:'"
      ]
     },
     "execution_count": 18,
     "metadata": {},
     "output_type": "execute_result"
    }
   ],
   "source": [
    "# Q5. What are custom exception in python? why do we need custom exception? explian with an example\n",
    "'''Custom exceptions are user-defined exceptions in Python. They are created by subclassing the built-in Exception class or any of its subclasses.\n",
    "\n",
    "The main reason for creating custom exceptions is to handle specific error conditions that are not covered by the built-in exceptions in a more meaningful and easily recognizable way. This allows the code to provide a clearer and more informative error message, and to handle the error in a more appropriate way.\n",
    "\n",
    "For example, consider a case where you are writing a program that performs some operations on an image. You might want to raise a custom exception if the image is not of the correct format:'''"
   ]
  },
  {
   "cell_type": "code",
   "execution_count": 20,
   "id": "4ea76296",
   "metadata": {},
   "outputs": [
    {
     "name": "stdout",
     "output_type": "stream",
     "text": [
      "Insufficient funds in account\n"
     ]
    }
   ],
   "source": [
    "class InsufficientFundsError(Exception):\n",
    "    def __init__(self, message):\n",
    "        self.message = message\n",
    "\n",
    "class BankAccount:\n",
    "    def __init__(self, balance):\n",
    "        self.balance = balance\n",
    "\n",
    "    def withdraw(self, amount):\n",
    "        if amount > self.balance:\n",
    "            raise InsufficientFundsError(\"Insufficient funds in account\")\n",
    "        self.balance -= amount\n",
    "\n",
    "account = BankAccount(100)\n",
    "try:\n",
    "    account.withdraw(200)\n",
    "except InsufficientFundsError as e:\n",
    "    print(e.message)\n"
   ]
  },
  {
   "cell_type": "code",
   "execution_count": 21,
   "id": "1261c143",
   "metadata": {},
   "outputs": [
    {
     "name": "stdout",
     "output_type": "stream",
     "text": [
      "This is a custom exception\n"
     ]
    }
   ],
   "source": [
    "# Q6. Create a custom exception class.use this class to handle an exception\n",
    "class CustomException(Exception):\n",
    "    def __init__(self, message):\n",
    "        self.message = message\n",
    "\n",
    "try:\n",
    "    raise CustomException(\"This is a custom exception\")\n",
    "except CustomException as e:\n",
    "    print(e.message)\n"
   ]
  },
  {
   "cell_type": "code",
   "execution_count": null,
   "id": "319025a1",
   "metadata": {},
   "outputs": [],
   "source": []
  }
 ],
 "metadata": {
  "kernelspec": {
   "display_name": "Python 3 (ipykernel)",
   "language": "python",
   "name": "python3"
  },
  "language_info": {
   "codemirror_mode": {
    "name": "ipython",
    "version": 3
   },
   "file_extension": ".py",
   "mimetype": "text/x-python",
   "name": "python",
   "nbconvert_exporter": "python",
   "pygments_lexer": "ipython3",
   "version": "3.9.7"
  }
 },
 "nbformat": 4,
 "nbformat_minor": 5
}
